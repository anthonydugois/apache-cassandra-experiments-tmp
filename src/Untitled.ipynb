{
 "cells": [
  {
   "cell_type": "code",
   "execution_count": null,
   "id": "86284e0d-a99e-4b15-8994-872742a171bb",
   "metadata": {},
   "outputs": [],
   "source": [
    "from lib.NoSQLBench import RunCommand\n",
    "from Runner import Runner\n",
    "\n",
    "import time\n",
    "import logging\n",
    "import sys\n",
    "import enoslib as en\n",
    "import enoslib.config as en_config"
   ]
  },
  {
   "cell_type": "code",
   "execution_count": null,
   "id": "e1b976e0-bd89-4b76-9a8f-76fa2febddd9",
   "metadata": {},
   "outputs": [],
   "source": [
    "en_config.set_config(g5k_cache=False, ansible_stdout=\"noop\")"
   ]
  },
  {
   "cell_type": "code",
   "execution_count": null,
   "id": "dbc5f21d-b83c-40cb-b688-3e0f8bbc097c",
   "metadata": {},
   "outputs": [],
   "source": [
    "logging.basicConfig(stream=sys.stdout, level=logging.INFO)"
   ]
  },
  {
   "cell_type": "code",
   "execution_count": null,
   "id": "bc5344eb-1cc3-4924-9583-6af898cfc6cb",
   "metadata": {},
   "outputs": [],
   "source": [
    "runner = Runner()"
   ]
  },
  {
   "cell_type": "code",
   "execution_count": null,
   "id": "7852c443-3806-451b-94ed-be66b4cf81e8",
   "metadata": {},
   "outputs": [],
   "source": [
    "runner.get_resources(site=\"nancy\",\n",
    "                     cluster=\"gros\",\n",
    "                     walltime=\"1:00:00\",\n",
    "                     job_name=\"cassandra\",\n",
    "                     node_count=1,\n",
    "                     seed_count=1,\n",
    "                     client_count=1)"
   ]
  },
  {
   "cell_type": "code",
   "execution_count": null,
   "id": "a4e211f4-22c1-42c2-a479-d64c805324e5",
   "metadata": {},
   "outputs": [],
   "source": [
    "runner.deploy_cassandra(name=\"cassandra\",\n",
    "                        docker_image=\"adugois1/apache-cassandra-base:latest\",\n",
    "                        conf_template=\"templates/cassandra/conf/cassandra-base.yaml\")"
   ]
  },
  {
   "cell_type": "code",
   "execution_count": null,
   "id": "07e23364-f5c7-4eed-b0b3-b50c9a7b85ef",
   "metadata": {},
   "outputs": [],
   "source": [
    "runner.deploy_nb(name=\"nosqlbench\",\n",
    "                 docker_image=\"nosqlbench/nosqlbench:nb5preview\")"
   ]
  },
  {
   "cell_type": "code",
   "execution_count": null,
   "id": "7031aa2c-e9de-49bc-b025-ea7d25a35816",
   "metadata": {},
   "outputs": [],
   "source": [
    "runner.run_nb(\n",
    "    RunCommand.from_options(driver=\"cqld4\",\n",
    "                            workload=f\"{runner.nb.container_conf_path}/workloads/baseline\",\n",
    "                            tags=\"block:schema\",\n",
    "                            threads=1,\n",
    "                            rf=1,\n",
    "                            host=runner.cassandra.hosts[0].address,\n",
    "                            localdc=\"datacenter1\")\n",
    ")"
   ]
  },
  {
   "cell_type": "code",
   "execution_count": null,
   "id": "61920cff-9bb7-4974-8cc6-ab30e5a157ba",
   "metadata": {},
   "outputs": [],
   "source": [
    "runner.run_nb(\n",
    "    RunCommand.from_options(driver=\"cqld4\",\n",
    "                            workload=f\"{runner.nb.container_conf_path}/workloads/baseline\",\n",
    "                            tags=\"block:rampup\",\n",
    "                            threads=\"auto\",\n",
    "                            cycles=100000000,\n",
    "                            cyclerate=50000,\n",
    "                            keycount=100000000,\n",
    "                            host=runner.cassandra.hosts[0].address,\n",
    "                            localdc=\"datacenter1\")\n",
    ")"
   ]
  },
  {
   "cell_type": "code",
   "execution_count": null,
   "id": "501b274c-c6b7-4ae5-81b4-ccda2f4f9c25",
   "metadata": {},
   "outputs": [],
   "source": [
    "logging.info(runner.cassandra.nodetool(\"tablestats baselines.keyvalue\"))\n",
    "logging.info(runner.cassandra.du(\"/var/lib/cassandra/data/baselines\"))"
   ]
  },
  {
   "cell_type": "code",
   "execution_count": null,
   "id": "02b88fde-c602-430e-981d-7b082a097157",
   "metadata": {},
   "outputs": [],
   "source": [
    "with en.Dstat(nodes=runner.nb.hosts, options=\"-aT\", backup_dir=\"./results/base-80/dstat\") as dstat:\n",
    "    time.sleep(5)\n",
    "\n",
    "    runner.run_nb(\n",
    "        RunCommand.from_options(driver=\"cqld4\",\n",
    "                                workload=f\"{runner.nb.container_conf_path}/workloads/baseline\",\n",
    "                                tags=\"block:main-read\",\n",
    "                                threads=\"auto\",\n",
    "                                cycles=10000000,\n",
    "                                cyclerate=11129,\n",
    "                                keycount=100000000,\n",
    "                                host=runner.cassandra.hosts[0].address,\n",
    "                                localdc=\"datacenter1\")\n",
    "        .logs_dir(runner.nb.container_data_path)\n",
    "        .log_histograms(f\"{runner.nb.container_data_path}/histograms.csv\")\n",
    "        .log_histostats(f\"{runner.nb.container_data_path}/histostats.csv\")\n",
    "        .report_summary_to(f\"{runner.nb.container_data_path}/summary.txt\")\n",
    "        .report_csv_to(f\"{runner.nb.container_data_path}/csv\")\n",
    "        .report_interval(30)\n",
    "    )\n",
    "\n",
    "    time.sleep(5)"
   ]
  },
  {
   "cell_type": "code",
   "execution_count": null,
   "id": "1ea74a79-d90e-4ad1-99b1-b74f8eb88511",
   "metadata": {},
   "outputs": [],
   "source": [
    "runner.nb.sync_results(dest=\"./results/base-80\")"
   ]
  },
  {
   "cell_type": "code",
   "execution_count": null,
   "id": "0c61e334-4694-45cb-9357-7d8a98837cdd",
   "metadata": {},
   "outputs": [],
   "source": []
  }
 ],
 "metadata": {
  "kernelspec": {
   "display_name": "apache-cassandra-experiments",
   "language": "python",
   "name": "apache-cassandra-experiments"
  },
  "language_info": {
   "codemirror_mode": {
    "name": "ipython",
    "version": 3
   },
   "file_extension": ".py",
   "mimetype": "text/x-python",
   "name": "python",
   "nbconvert_exporter": "python",
   "pygments_lexer": "ipython3",
   "version": "3.9.2"
  }
 },
 "nbformat": 4,
 "nbformat_minor": 5
}
