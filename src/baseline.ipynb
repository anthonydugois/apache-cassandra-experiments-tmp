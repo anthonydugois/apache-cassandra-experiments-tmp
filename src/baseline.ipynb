{
 "cells": [
  {
   "cell_type": "code",
   "execution_count": null,
   "metadata": {},
   "outputs": [],
   "source": [
    "from Cluster import Cluster\n",
    "from Cassandra import Cassandra\n",
    "from NoSQLBench import NoSQLBench, RunCommand\n",
    "\n",
    "import enoslib as en\n",
    "import enoslib.config as en_config"
   ]
  },
  {
   "cell_type": "code",
   "execution_count": null,
   "metadata": {},
   "outputs": [],
   "source": [
    "en_config.set_config(g5k_cache=False, ansible_stdout=\"noop\")"
   ]
  },
  {
   "cell_type": "code",
   "execution_count": null,
   "metadata": {},
   "outputs": [],
   "source": [
    "cluster = Cluster(site=\"nancy\",\n",
    "                  cluster=\"gros\",\n",
    "                  walltime=\"0:30:00\",\n",
    "                  job_name=\"cassandra\",\n",
    "                  node_count=0,\n",
    "                  seed_count=0,\n",
    "                  client_count=1)\n",
    "\n",
    "roles = cluster.get_resources()"
   ]
  },
  {
   "cell_type": "code",
   "execution_count": null,
   "metadata": {},
   "outputs": [],
   "source": [
    "cassandra = Cassandra(name=\"cassandra\", docker_image=\"adugois1/apache-cassandra-base:latest\")\n",
    "\n",
    "cassandra.setup(hosts=roles[\"cassandra\"],\n",
    "                seeds=roles[\"seeds\"],\n",
    "                not_seeds=roles[\"not_seeds\"],\n",
    "                conf_template=\"templates/cassandra-base.yaml\")\n",
    "\n",
    "cassandra.deploy_and_start()"
   ]
  },
  {
   "cell_type": "code",
   "execution_count": null,
   "metadata": {},
   "outputs": [],
   "source": [
    "nb = NoSQLBench(name=\"nosqlbench\", docker_image=\"nosqlbench/nosqlbench:nb5preview\")\n",
    "\n",
    "nb.setup(hosts=roles[\"clients\"])\n",
    "\n",
    "nb.deploy()"
   ]
  },
  {
   "cell_type": "code",
   "execution_count": null,
   "metadata": {},
   "outputs": [],
   "source": [
    "nb.command(\n",
    "    RunCommand.from_options(driver=\"stdout\",\n",
    "                            workload=\"/etc/nosqlbench/workloads/baseline\",\n",
    "                            tags=\"block:schema\",\n",
    "                            threads=\"1\")\n",
    "    .report_csv_to(\"/var/lib/nosqlbench\")\n",
    ")"
   ]
  },
  {
   "cell_type": "code",
   "execution_count": null,
   "metadata": {},
   "outputs": [],
   "source": [
    "nb.sync_results(dest=\"./results-base\")"
   ]
  },
  {
   "cell_type": "code",
   "execution_count": null,
   "metadata": {},
   "outputs": [],
   "source": [
    "cassandra.cleanup()"
   ]
  },
  {
   "cell_type": "code",
   "execution_count": null,
   "metadata": {},
   "outputs": [],
   "source": [
    "cluster.destroy()"
   ]
  },
  {
   "cell_type": "code",
   "execution_count": null,
   "metadata": {},
   "outputs": [],
   "source": []
  }
 ],
 "metadata": {
  "kernelspec": {
   "display_name": "apache-cassandra-experiments",
   "language": "python",
   "name": "apache-cassandra-experiments"
  },
  "language_info": {
   "codemirror_mode": {
    "name": "ipython",
    "version": 3
   },
   "file_extension": ".py",
   "mimetype": "text/x-python",
   "name": "python",
   "nbconvert_exporter": "python",
   "pygments_lexer": "ipython3",
   "version": "3.9.2"
  }
 },
 "nbformat": 4,
 "nbformat_minor": 4
}
