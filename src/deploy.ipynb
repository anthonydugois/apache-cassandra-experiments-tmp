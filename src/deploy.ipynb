{
 "cells": [
  {
   "cell_type": "code",
   "execution_count": null,
   "metadata": {},
   "outputs": [],
   "source": [
    "from pathlib import Path\n",
    "from util import *"
   ]
  },
  {
   "cell_type": "code",
   "execution_count": null,
   "metadata": {},
   "outputs": [],
   "source": [
    "provider = get_g5k_resources({\n",
    "    \"site\": \"nancy\",\n",
    "    \"cluster\": \"gros\",\n",
    "    \"walltime\": \"0:30:00\",\n",
    "    \"job_name\": \"cassandra\",\n",
    "    \"node_count\": 3,\n",
    "    \"seed_count\": 1,\n",
    "    \"client_count\": 1\n",
    "})\n",
    "\n",
    "roles, _ = provider.init()\n",
    "\n",
    "set_cassandra_conf_path(roles)\n",
    "\n",
    "set_cassandra_conf(roles, template_path=\"templates/cassandra-base.yaml\")\n",
    "\n",
    "transfer_cassandra_conf(roles)\n",
    "\n",
    "deploy_docker(roles)\n",
    "\n",
    "deploy_cassandra(roles, docker_image=\"adugois1/apache-cassandra-base:latest\")\n",
    "\n",
    "start_cassandra(roles)"
   ]
  },
  {
   "cell_type": "code",
   "execution_count": null,
   "metadata": {},
   "outputs": [],
   "source": [
    "provider.destroy()"
   ]
  },
  {
   "cell_type": "code",
   "execution_count": null,
   "metadata": {},
   "outputs": [],
   "source": []
  }
 ],
 "metadata": {
  "kernelspec": {
   "display_name": "apache-cassandra-experiments",
   "language": "python",
   "name": "apache-cassandra-experiments"
  },
  "language_info": {
   "codemirror_mode": {
    "name": "ipython",
    "version": 3
   },
   "file_extension": ".py",
   "mimetype": "text/x-python",
   "name": "python",
   "nbconvert_exporter": "python",
   "pygments_lexer": "ipython3",
   "version": "3.9.2"
  }
 },
 "nbformat": 4,
 "nbformat_minor": 4
}
